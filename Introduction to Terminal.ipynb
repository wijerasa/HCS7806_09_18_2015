{
 "cells": [
  {
   "cell_type": "markdown",
   "metadata": {},
   "source": [
    "#Overview of Linux"
   ]
  },
  {
   "cell_type": "markdown",
   "metadata": {},
   "source": [
    "Linux is a free OS and very similiar to the UNIX OS in terms of concepts, features.\n",
    "\n",
    "[**Linux Distributions**](https://en.wikipedia.org/wiki/Comparison_of_Linux_distributions)\n",
    "\n",
    "---"
   ]
  },
  {
   "cell_type": "markdown",
   "metadata": {},
   "source": [
    "###Linux System Structure"
   ]
  },
  {
   "cell_type": "markdown",
   "metadata": {},
   "source": [
    "Linux system has three main components:\n",
    "\n",
    "* **Kernel**\n",
    "> It controls system hardware including memory, processors, disks, and I/ O (Input/ Output) devices. It schedules processes, enforces security, manages user access, and so on. The kernel receives instructions from the shell, engages appropriate hardware resources, and acts as instructed.\n",
    "\n",
    "* **Shell**  __(This the important part for our class)__\n",
    "> The shell is a program that accepts and interprets text-mode commands. The user provides instructions (commands) to the shell, which are interpreted and passed to the kernel for processing.\n",
    "\n",
    "* **Hierarchical directory structure**\n",
    "> Linux uses the conventional hierarchical directory structure where directories may contain both files and sub-directories. Sub-directories may further hold more files and sub-directories. A subdirectory, also referred to as a child directory, is a directory located under a parent directory.\n",
    "> <p> */home/ username/dir1/ subdir1*\n",
    "> * / -root (parent of *home*)\n",
    "> * home - sub-directory  or child of / (*root*)\n",
    "\n"
   ]
  },
  {
   "cell_type": "markdown",
   "metadata": {},
   "source": [
    "<img src=\"images/LSS.png\">"
   ]
  },
  {
   "cell_type": "markdown",
   "metadata": {},
   "source": [
    "---"
   ]
  },
  {
   "cell_type": "markdown",
   "metadata": {},
   "source": [
    "##Starting a Shell"
   ]
  },
  {
   "cell_type": "markdown",
   "metadata": {},
   "source": [
    "* [Through SSH](https://pods.iplantcollaborative.org/wiki/display/atmman/Logging+In+to+an+Instance)\n",
    "* Using graphical interface\n",
    "\n",
    "<img src=\"images/gnome-window.png\">\n"
   ]
  },
  {
   "cell_type": "markdown",
   "metadata": {},
   "source": [
    "<img src=\"images/Terminal.png\">"
   ]
  },
  {
   "cell_type": "markdown",
   "metadata": {},
   "source": [
    "** [] prompt, waiting for you to start entering commands.**"
   ]
  },
  {
   "cell_type": "markdown",
   "metadata": {},
   "source": [
    "---"
   ]
  },
  {
   "cell_type": "markdown",
   "metadata": {},
   "source": [
    "##Terminal Commands"
   ]
  },
  {
   "cell_type": "markdown",
   "metadata": {},
   "source": [
    "### ** _pwd (Print Working Directory)_ **"
   ]
  },
  {
   "cell_type": "markdown",
   "metadata": {},
   "source": [
    "When you first login, you are logged into your home directory __(/home/username)__."
   ]
  },
  {
   "cell_type": "markdown",
   "metadata": {},
   "source": [
    "To find out what is your current working directory, type\n"
   ]
  },
  {
   "cell_type": "markdown",
   "metadata": {},
   "source": [
    "*:~$ pwd*"
   ]
  },
  {
   "cell_type": "markdown",
   "metadata": {},
   "source": [
    "<img src=\"images/PWD.png\">"
   ]
  },
  {
   "cell_type": "markdown",
   "metadata": {},
   "source": [
    "### ** _mkdir  (makding a directory)_ **"
   ]
  },
  {
   "cell_type": "markdown",
   "metadata": {},
   "source": [
    "To make a subdirectory  called _Software_ in your home directory, type"
   ]
  },
  {
   "cell_type": "markdown",
   "metadata": {},
   "source": [
    "*:~$ mkdir Software *"
   ]
  },
  {
   "cell_type": "markdown",
   "metadata": {},
   "source": [
    "<img src=\"images/MKDIR.png\">"
   ]
  },
  {
   "cell_type": "markdown",
   "metadata": {},
   "source": [
    "### ** _ls (list)_ **"
   ]
  },
  {
   "cell_type": "markdown",
   "metadata": {},
   "source": [
    "To see what is inside the home directory, type"
   ]
  },
  {
   "cell_type": "markdown",
   "metadata": {},
   "source": [
    "*:~$ ls *"
   ]
  },
  {
   "cell_type": "markdown",
   "metadata": {},
   "source": [
    "<img src=\"images/LS.png\">"
   ]
  },
  {
   "cell_type": "markdown",
   "metadata": {},
   "source": [
    "### ** _cd (change directory)_ **"
   ]
  },
  {
   "cell_type": "code",
   "execution_count": null,
   "metadata": {
    "collapsed": true
   },
   "outputs": [],
   "source": [
    "To change the current directory to the \"Software\", type"
   ]
  },
  {
   "cell_type": "code",
   "execution_count": null,
   "metadata": {
    "collapsed": true
   },
   "outputs": [],
   "source": []
  }
 ],
 "metadata": {
  "kernelspec": {
   "display_name": "Bash",
   "language": "bash",
   "name": "bash"
  },
  "language_info": {
   "codemirror_mode": "shell",
   "file_extension": ".sh",
   "mimetype": "text/x-sh",
   "name": "bash"
  }
 },
 "nbformat": 4,
 "nbformat_minor": 0
}
