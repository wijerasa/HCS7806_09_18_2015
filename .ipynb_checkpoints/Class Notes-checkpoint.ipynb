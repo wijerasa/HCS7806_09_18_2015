{
 "cells": [
  {
   "cell_type": "markdown",
   "metadata": {},
   "source": [
    "# [Process of Analyzing  eQTL Data](https://github.com/wijerasa/HCS7806_09_18_2015.git)\n",
    "\n",
    "#### *So far*,\n",
    "\n",
    "1. *Overview of Next Generation Sequencing*\n",
    "2. *Setting an iPlant account*\n",
    "3. *Uploading data to iPlant*\n",
    "4. *Intrdouction to iPlant Discovery Environment*\n",
    "5. *QC and cleaning sequence data*\n",
    "6. *Mapping of reads to the genome* \n",
    "\n",
    "#### *Today*,\n",
    "\n",
    "1. *Introduction to iPlant Atmosphere*\n",
    "2. *Introduction to Terminal*\n",
    "3. *Doing down stream analysis in the Terminal*\n",
    "\n",
    "Contents\n",
    "-------\n",
    "* [**iPlant Atmosphere: Introduction**](https://pods.iplantcollaborative.org/wiki/display/atmman/About+Atmosphere) Introduction to iPlant Atmosphere, this includes:\n",
    "  - [What is iPlant Atmosphere ?](https://pods.iplantcollaborative.org/wiki/display/atmman/About+Atmosphere#AboutAtmosphere-OLDUICONTENT) \n",
    "  - [Requesting Access to Atmosphere](https://pods.iplantcollaborative.org/wiki/display/atmman/Requesting+Access+to+Atmosphere)\n",
    "  - [Logging In to and Signing Out of Atmosphere](https://pods.iplantcollaborative.org/wiki/display/atmman/Logging+In+to+and+Signing+Out+of+Atmosphere)\n",
    "  - [Using Instances](https://pods.iplantcollaborative.org/wiki/display/atmman/Using+Instances)\n",
    "    - [Launching a New Instance](https://pods.iplantcollaborative.org/wiki/display/atmman/Launching+a+New+Instance)\n",
    "    - [Logging in to an Instance](https://pods.iplantcollaborative.org/wiki/display/atmman/Logging+In+to+an+Instance)\n",
    "    - [Rebooting](https://pods.iplantcollaborative.org/wiki/display/atmman/Rebooting+an+Instance), [Stopping and restarting an instance](https://pods.iplantcollaborative.org/wiki/display/atmman/Stopping+and+Starting+an+Instance), and [Suspending an instance](https://pods.iplantcollaborative.org/wiki/display/atmman/Suspending+and+Resuming+an+Instance)\n",
    "\n",
    "* [**Introduction to Terminal**](http://nbviewer.ipython.org/github/wijerasa/HCS7806_09_18_2015/blob/master/Introduction%20to%20Terminal.ipynb): Here you will learn basic terminal commands, how to transfer your data to cloud service and install software in Linux\n",
    "  - [Data Transfer](http://nbviewer.ipython.org/github/wijerasa/HCS7806_09_18_2015/blob/master/Transfer_Data.ipynb)\n",
    "  - [File Handling](http://nbviewer.ipython.org/github/wijerasa/HCS7806_09_18_2015/blob/master/File_Handling.ipynb)\n",
    "  - [Install Software](http://nbviewer.ipython.org/github/wijerasa/HCS7806_09_18_2015/blob/master/Install_Software.ipynb)\n",
    "\n",
    "* [**Doing down stream analysis in the Terminal**](http://nbviewer.ipython.org/github/wijerasa/HCS7806_09_18_2015/blob/master/RNA-Seq.ipynb) Run fastqc, sickle,scythe, tophaht2 in commandline\n"
   ]
  }
 ],
 "metadata": {
  "kernelspec": {
   "display_name": "Bash",
   "language": "bash",
   "name": "bash"
  },
  "language_info": {
   "codemirror_mode": "shell",
   "file_extension": ".sh",
   "mimetype": "text/x-sh",
   "name": "bash"
  }
 },
 "nbformat": 4,
 "nbformat_minor": 0
}
