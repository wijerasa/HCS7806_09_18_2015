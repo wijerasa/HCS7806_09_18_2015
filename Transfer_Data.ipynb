{
 "cells": [
  {
   "cell_type": "markdown",
   "metadata": {},
   "source": [
    "#Transfer Data To remote Server"
   ]
  },
  {
   "cell_type": "markdown",
   "metadata": {},
   "source": [
    "##Move Local Files to Remote server"
   ]
  },
  {
   "cell_type": "markdown",
   "metadata": {
    "collapsed": true
   },
   "source": [
    "### ** _scp (Secure Copy)_ **\n",
    "Copy the file \"foobar.txt\" from the local host to a remote host"
   ]
  },
  {
   "cell_type": "markdown",
   "metadata": {},
   "source": [
    "```bash\n",
    "scp  /some/local/directory/foobar.txt your_username@remotehost_IP:/home/yourusername/remote_dir\n",
    "```"
   ]
  },
  {
   "cell_type": "markdown",
   "metadata": {},
   "source": [
    "###Exercise:"
   ]
  },
  {
   "cell_type": "markdown",
   "metadata": {},
   "source": [
    "1. Copy any .fastq.gz files from you local machine to /home/yourusername/RNA-Seq/RAW_Data "
   ]
  },
  {
   "cell_type": "markdown",
   "metadata": {},
   "source": [
    "### ** _Using Cyberduck_ **"
   ]
  },
  {
   "cell_type": "markdown",
   "metadata": {},
   "source": [
    "<img src=\"images/SYB.png\">"
   ]
  },
  {
   "cell_type": "markdown",
   "metadata": {},
   "source": [
    "##Download Data from URL"
   ]
  },
  {
   "cell_type": "markdown",
   "metadata": {},
   "source": [
    "### ** _wget_ ** ###\n",
    "Users execute the wget command without any option by simply using the URL of the file to be downloaded in the command line. "
   ]
  },
  {
   "cell_type": "markdown",
   "metadata": {},
   "source": [
    "```bash\n",
    "wget [URL]\n",
    "```"
   ]
  },
  {
   "cell_type": "markdown",
   "metadata": {},
   "source": [
    "###Exercise:"
   ]
  },
  {
   "cell_type": "markdown",
   "metadata": {},
   "source": [
    "1. Make a direct link to any of your fastq.gz file in Box.net\n",
    "2. Download that file into /home/yourusername/RNA-Seq/RAW_Data using wget_ command"
   ]
  },
  {
   "cell_type": "markdown",
   "metadata": {},
   "source": [
    "##More Downloading.."
   ]
  },
  {
   "cell_type": "markdown",
   "metadata": {},
   "source": [
    "1. Download [Gmax Chr01]( https://osu.box.com/shared/static/nacr8prhsjsuiofzguj34qhrz74p6mca.fasta) Fasta file from Box.net to /home/yourusername/RNA-Seq/Reference/Genome.\n",
    "2. Download /TruSeq_adapters.fasta file from Box.net to /home/yourusername/RNA-Seq/Adapters."
   ]
  }
 ],
 "metadata": {
  "kernelspec": {
   "display_name": "Bash",
   "language": "bash",
   "name": "bash"
  },
  "language_info": {
   "codemirror_mode": "shell",
   "file_extension": ".sh",
   "mimetype": "text/x-sh",
   "name": "bash"
  }
 },
 "nbformat": 4,
 "nbformat_minor": 0
}
